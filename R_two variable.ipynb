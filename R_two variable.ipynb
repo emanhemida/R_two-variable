{
 "cells": [
  {
   "cell_type": "code",
   "execution_count": 1,
   "id": "2ddd9ba0",
   "metadata": {},
   "outputs": [
    {
     "name": "stdout",
     "output_type": "stream",
     "text": [
      "   age     sex     bmi  children smoker     region      charges\n",
      "0   19  female  27.900         0    yes  southwest  16884.92400\n",
      "1   18    male  33.770         1     no  southeast   1725.55230\n",
      "2   28    male  33.000         3     no  southeast   4449.46200\n",
      "3   33    male  22.705         0     no  northwest  21984.47061\n",
      "4   32    male  28.880         0     no  northwest   3866.85520\n",
      "(1338, 7)\n"
     ]
    }
   ],
   "source": [
    "import numpy as np\n",
    "import pandas as pd\n",
    "import matplotlib.pyplot as plt\n",
    "from sklearn.preprocessing import LabelEncoder \n",
    "from sklearn.linear_model import LinearRegression \n",
    "from sklearn.model_selection import train_test_split\n",
    "\n",
    "#read data\n",
    "data=pd.read_csv(\"insurance.csv\")\n",
    "x=data.iloc[:,:-1]\n",
    "y=data.iloc[:,-1]\n",
    "print(data.head())\n",
    "print(data.shape)"
   ]
  },
  {
   "cell_type": "code",
   "execution_count": 2,
   "id": "dbabde9c",
   "metadata": {},
   "outputs": [
    {
     "name": "stdout",
     "output_type": "stream",
     "text": [
      "age         0\n",
      "sex         0\n",
      "bmi         0\n",
      "children    0\n",
      "smoker      0\n",
      "region      0\n",
      "charges     0\n",
      "dtype: int64\n"
     ]
    }
   ],
   "source": [
    "print(data.isnull().sum())"
   ]
  },
  {
   "cell_type": "code",
   "execution_count": 3,
   "id": "dd776f0f",
   "metadata": {},
   "outputs": [],
   "source": [
    "#seperat object\n",
    "x_obj=x.select_dtypes(include=[\"object\"])\n",
    "x_non_obj=x.select_dtypes(exclude=[\"object\"])\n"
   ]
  },
  {
   "cell_type": "code",
   "execution_count": 4,
   "id": "1dc15e83",
   "metadata": {},
   "outputs": [
    {
     "name": "stderr",
     "output_type": "stream",
     "text": [
      "C:\\Users\\COMPU MAAROUF\\AppData\\Local\\Temp\\ipykernel_13592\\1673198556.py:4: DeprecationWarning: In a future version, `df.iloc[:, i] = newvals` will attempt to set the values inplace instead of always setting a new array. To retain the old behavior, use either `df[df.columns[i]] = newvals` or, if columns are non-unique, `df.isetitem(i, newvals)`\n",
      "  x_obj.iloc[:,i]=le.fit_transform(x_obj.iloc[:,i])\n",
      "C:\\Users\\COMPU MAAROUF\\AppData\\Local\\Temp\\ipykernel_13592\\1673198556.py:4: DeprecationWarning: In a future version, `df.iloc[:, i] = newvals` will attempt to set the values inplace instead of always setting a new array. To retain the old behavior, use either `df[df.columns[i]] = newvals` or, if columns are non-unique, `df.isetitem(i, newvals)`\n",
      "  x_obj.iloc[:,i]=le.fit_transform(x_obj.iloc[:,i])\n",
      "C:\\Users\\COMPU MAAROUF\\AppData\\Local\\Temp\\ipykernel_13592\\1673198556.py:4: DeprecationWarning: In a future version, `df.iloc[:, i] = newvals` will attempt to set the values inplace instead of always setting a new array. To retain the old behavior, use either `df[df.columns[i]] = newvals` or, if columns are non-unique, `df.isetitem(i, newvals)`\n",
      "  x_obj.iloc[:,i]=le.fit_transform(x_obj.iloc[:,i])\n"
     ]
    }
   ],
   "source": [
    "#label encoder \n",
    "le=LabelEncoder()\n",
    "for i in range(x_obj.shape[1]):\n",
    "    x_obj.iloc[:,i]=le.fit_transform(x_obj.iloc[:,i])\n",
    "#هعمل متغير يربط بين البيانات النن اوبجكت وبين البيانات الاوبجكت\n",
    "X=pd.concat([x_non_obj,x_obj],axis=1)\n"
   ]
  },
  {
   "cell_type": "code",
   "execution_count": 5,
   "id": "0f879d21",
   "metadata": {},
   "outputs": [],
   "source": [
    "x_train,x_test,y_train,y_test=train_test_split(x,y,train_size=0.8)\n"
   ]
  },
  {
   "cell_type": "code",
   "execution_count": 6,
   "id": "c7be5b5d",
   "metadata": {},
   "outputs": [
    {
     "name": "stdout",
     "output_type": "stream",
     "text": [
      "      age     sex     bmi  children smoker     region\n",
      "559    19    male  35.530         0     no  northwest\n",
      "297    47    male  25.410         1    yes  southeast\n",
      "1274   26    male  27.060         0    yes  southeast\n",
      "1070   37    male  37.070         1    yes  southeast\n",
      "51     21  female  33.630         2     no  northwest\n",
      "...   ...     ...     ...       ...    ...        ...\n",
      "222    32    male  30.800         3     no  southwest\n",
      "733    48  female  27.265         1     no  northeast\n",
      "366    56  female  32.300         3     no  northeast\n",
      "390    48    male  35.625         4     no  northeast\n",
      "1027   23    male  18.715         0     no  northwest\n",
      "\n",
      "[1070 rows x 6 columns]\n"
     ]
    }
   ],
   "source": [
    "print(x_train)"
   ]
  },
  {
   "cell_type": "code",
   "execution_count": 9,
   "id": "4a12420e",
   "metadata": {},
   "outputs": [
    {
     "ename": "TypeError",
     "evalue": "LinearRegression.__init__() got an unexpected keyword argument 'normalize'",
     "output_type": "error",
     "traceback": [
      "\u001b[1;31m---------------------------------------------------------------------------\u001b[0m",
      "\u001b[1;31mTypeError\u001b[0m                                 Traceback (most recent call last)",
      "Cell \u001b[1;32mIn[9], line 5\u001b[0m\n\u001b[0;32m      3\u001b[0m x_train,x_test,y_train,y_test\u001b[38;5;241m=\u001b[39mtrain_test_split(x,y,train_size\u001b[38;5;241m=\u001b[39m\u001b[38;5;241m0.8\u001b[39m)\n\u001b[0;32m      4\u001b[0m \u001b[38;5;66;03m#linear regression\u001b[39;00m\n\u001b[1;32m----> 5\u001b[0m m\u001b[38;5;241m=\u001b[39m \u001b[43mLinearRegression\u001b[49m\u001b[43m \u001b[49m\u001b[43m(\u001b[49m\u001b[43mnormalize\u001b[49m\u001b[38;5;241;43m=\u001b[39;49m\u001b[38;5;28;43;01mTrue\u001b[39;49;00m\u001b[43m)\u001b[49m\n\u001b[0;32m      6\u001b[0m m\u001b[38;5;241m.\u001b[39mfit(x_train,y_train)\n\u001b[0;32m      7\u001b[0m \u001b[38;5;66;03m# acureccy\u001b[39;00m\n",
      "\u001b[1;31mTypeError\u001b[0m: LinearRegression.__init__() got an unexpected keyword argument 'normalize'"
     ]
    }
   ],
   "source": [
    "from sklearn.linear_model import LinearRegression \n",
    "\n",
    "x_train,x_test,y_train,y_test=train_test_split(x,y,train_size=0.8)\n",
    "#linear regression\n",
    "#m= LinearRegression (normalize=True)\n",
    "m.fit(x_train,y_train)\n",
    "# acureccy\n",
    "print(m.score(x_train,y_train))\n",
    "print(m.score(x_test,y_test))"
   ]
  },
  {
   "cell_type": "code",
   "execution_count": null,
   "id": "c28a2a1e",
   "metadata": {},
   "outputs": [],
   "source": []
  }
 ],
 "metadata": {
  "kernelspec": {
   "display_name": "Python 3 (ipykernel)",
   "language": "python",
   "name": "python3"
  },
  "language_info": {
   "codemirror_mode": {
    "name": "ipython",
    "version": 3
   },
   "file_extension": ".py",
   "mimetype": "text/x-python",
   "name": "python",
   "nbconvert_exporter": "python",
   "pygments_lexer": "ipython3",
   "version": "3.10.9"
  }
 },
 "nbformat": 4,
 "nbformat_minor": 5
}
